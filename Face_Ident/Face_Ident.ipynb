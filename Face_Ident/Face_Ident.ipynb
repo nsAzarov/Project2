{
 "cells": [
  {
   "cell_type": "code",
   "execution_count": 13,
   "metadata": {},
   "outputs": [
    {
     "name": "stdout",
     "output_type": "stream",
     "text": [
      "Using Facenet model backend cosine distance.\n"
     ]
    },
    {
     "name": "stderr",
     "output_type": "stream",
     "text": [
      "\r",
      "Analyzing:   0%|                                                                                 | 0/1 [00:00<?, ?it/s]"
     ]
    },
    {
     "name": "stdout",
     "output_type": "stream",
     "text": [
      "WARNING: Representations for images in  C:/Users/timna/Known_Faces  folder were previously stored in  representations_facenet.pkl . If you added new instances after this file creation, then please delete this file and call find function again. It will create it again.\n",
      "There are  14  representations found in  representations_facenet.pkl\n"
     ]
    },
    {
     "name": "stderr",
     "output_type": "stream",
     "text": [
      "Analyzing: 100%|█████████████████████████████████████████████████████████████████████████| 1/1 [00:11<00:00, 11.50s/it]"
     ]
    },
    {
     "name": "stdout",
     "output_type": "stream",
     "text": [
      "find function lasts  30.137405395507812  seconds\n",
      "It is probably Jeff Bezos!\n"
     ]
    },
    {
     "name": "stderr",
     "output_type": "stream",
     "text": [
      "\n"
     ]
    }
   ],
   "source": [
    "from deepface import DeepFace\n",
    "import pandas as pd\n",
    "import re\n",
    "#import cv2\n",
    "#import matplotlib.pyplot as plt\n",
    "\n",
    "df = DeepFace.find(img_path = \"Unknown_Faces/jeff bezos.png\", db_path = \"C:/Users/timna/Known_Faces\",model_name='Facenet')\n",
    "if len(df)==0:\n",
    "    #plt.imshow(cv2.imread(\"Unknown_Faces/jeff bezos.png\")[:,:,::-1])\n",
    "    print('I do not know who is it!')\n",
    "else:\n",
    "    #plt.imshow(cv2.imread(\"Unknown_Faces/jeff bezos.png\")[:,:,::-1])\n",
    "    print('It is probably {}!'.format((re.search('.*\\/.*\\/.*\\/.*[\\\\\\/](.*)\\/.*',df.loc[0,'identity'])).group(1)))"
   ]
  },
  {
   "cell_type": "code",
   "execution_count": null,
   "metadata": {},
   "outputs": [],
   "source": []
  }
 ],
 "metadata": {
  "kernelspec": {
   "display_name": "Python 3",
   "language": "python",
   "name": "python3"
  },
  "language_info": {
   "codemirror_mode": {
    "name": "ipython",
    "version": 3
   },
   "file_extension": ".py",
   "mimetype": "text/x-python",
   "name": "python",
   "nbconvert_exporter": "python",
   "pygments_lexer": "ipython3",
   "version": "3.7.7"
  }
 },
 "nbformat": 4,
 "nbformat_minor": 4
}
